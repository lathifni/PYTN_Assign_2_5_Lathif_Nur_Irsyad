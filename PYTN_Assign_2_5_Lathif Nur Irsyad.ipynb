{
 "cells": [
  {
   "cell_type": "markdown",
   "id": "cbbba3c4",
   "metadata": {},
   "source": [
    "# hipotesis saya adalah rumah yang domian terjual termasuk kategori rumah tua (di bawah tahun 1950)"
   ]
  },
  {
   "cell_type": "markdown",
   "id": "bd958eb0",
   "metadata": {},
   "source": [
    "# Import package"
   ]
  },
  {
   "cell_type": "code",
   "execution_count": 6,
   "id": "0b8e5221",
   "metadata": {
    "ExecuteTime": {
     "end_time": "2023-10-08T13:44:31.808038Z",
     "start_time": "2023-10-08T13:44:31.800106Z"
    }
   },
   "outputs": [],
   "source": [
    "import pandas as pd \n",
    "import numpy as np \n",
    "import math\n",
    "import statistics\n",
    "import scipy.stats \n",
    "from scipy import stats"
   ]
  },
  {
   "cell_type": "markdown",
   "id": "5415db08",
   "metadata": {},
   "source": [
    "# Memuat dataset"
   ]
  },
  {
   "cell_type": "code",
   "execution_count": 7,
   "id": "33b6d333",
   "metadata": {
    "ExecuteTime": {
     "end_time": "2023-10-08T13:44:32.796344Z",
     "start_time": "2023-10-08T13:44:32.412781Z"
    }
   },
   "outputs": [
    {
     "data": {
      "text/html": [
       "<div>\n",
       "<style scoped>\n",
       "    .dataframe tbody tr th:only-of-type {\n",
       "        vertical-align: middle;\n",
       "    }\n",
       "\n",
       "    .dataframe tbody tr th {\n",
       "        vertical-align: top;\n",
       "    }\n",
       "\n",
       "    .dataframe thead th {\n",
       "        text-align: right;\n",
       "    }\n",
       "</style>\n",
       "<table border=\"1\" class=\"dataframe\">\n",
       "  <thead>\n",
       "    <tr style=\"text-align: right;\">\n",
       "      <th></th>\n",
       "      <th>Unnamed: 0</th>\n",
       "      <th>BOROUGH</th>\n",
       "      <th>NEIGHBORHOOD</th>\n",
       "      <th>BUILDING CLASS CATEGORY</th>\n",
       "      <th>TAX CLASS AT PRESENT</th>\n",
       "      <th>BLOCK</th>\n",
       "      <th>LOT</th>\n",
       "      <th>EASE-MENT</th>\n",
       "      <th>BUILDING CLASS AT PRESENT</th>\n",
       "      <th>ADDRESS</th>\n",
       "      <th>...</th>\n",
       "      <th>RESIDENTIAL UNITS</th>\n",
       "      <th>COMMERCIAL UNITS</th>\n",
       "      <th>TOTAL UNITS</th>\n",
       "      <th>LAND SQUARE FEET</th>\n",
       "      <th>GROSS SQUARE FEET</th>\n",
       "      <th>YEAR BUILT</th>\n",
       "      <th>TAX CLASS AT TIME OF SALE</th>\n",
       "      <th>BUILDING CLASS AT TIME OF SALE</th>\n",
       "      <th>SALE PRICE</th>\n",
       "      <th>SALE DATE</th>\n",
       "    </tr>\n",
       "  </thead>\n",
       "  <tbody>\n",
       "    <tr>\n",
       "      <th>0</th>\n",
       "      <td>4</td>\n",
       "      <td>1</td>\n",
       "      <td>ALPHABET CITY</td>\n",
       "      <td>07 RENTALS - WALKUP APARTMENTS</td>\n",
       "      <td>2A</td>\n",
       "      <td>392</td>\n",
       "      <td>6</td>\n",
       "      <td></td>\n",
       "      <td>C2</td>\n",
       "      <td>153 AVENUE B</td>\n",
       "      <td>...</td>\n",
       "      <td>5</td>\n",
       "      <td>0</td>\n",
       "      <td>5</td>\n",
       "      <td>1633</td>\n",
       "      <td>6440</td>\n",
       "      <td>1900</td>\n",
       "      <td>2</td>\n",
       "      <td>C2</td>\n",
       "      <td>6625000</td>\n",
       "      <td>2017-07-19 00:00:00</td>\n",
       "    </tr>\n",
       "    <tr>\n",
       "      <th>1</th>\n",
       "      <td>5</td>\n",
       "      <td>1</td>\n",
       "      <td>ALPHABET CITY</td>\n",
       "      <td>07 RENTALS - WALKUP APARTMENTS</td>\n",
       "      <td>2</td>\n",
       "      <td>399</td>\n",
       "      <td>26</td>\n",
       "      <td></td>\n",
       "      <td>C7</td>\n",
       "      <td>234 EAST 4TH   STREET</td>\n",
       "      <td>...</td>\n",
       "      <td>28</td>\n",
       "      <td>3</td>\n",
       "      <td>31</td>\n",
       "      <td>4616</td>\n",
       "      <td>18690</td>\n",
       "      <td>1900</td>\n",
       "      <td>2</td>\n",
       "      <td>C7</td>\n",
       "      <td>-</td>\n",
       "      <td>2016-12-14 00:00:00</td>\n",
       "    </tr>\n",
       "    <tr>\n",
       "      <th>2</th>\n",
       "      <td>6</td>\n",
       "      <td>1</td>\n",
       "      <td>ALPHABET CITY</td>\n",
       "      <td>07 RENTALS - WALKUP APARTMENTS</td>\n",
       "      <td>2</td>\n",
       "      <td>399</td>\n",
       "      <td>39</td>\n",
       "      <td></td>\n",
       "      <td>C7</td>\n",
       "      <td>197 EAST 3RD   STREET</td>\n",
       "      <td>...</td>\n",
       "      <td>16</td>\n",
       "      <td>1</td>\n",
       "      <td>17</td>\n",
       "      <td>2212</td>\n",
       "      <td>7803</td>\n",
       "      <td>1900</td>\n",
       "      <td>2</td>\n",
       "      <td>C7</td>\n",
       "      <td>-</td>\n",
       "      <td>2016-12-09 00:00:00</td>\n",
       "    </tr>\n",
       "    <tr>\n",
       "      <th>3</th>\n",
       "      <td>7</td>\n",
       "      <td>1</td>\n",
       "      <td>ALPHABET CITY</td>\n",
       "      <td>07 RENTALS - WALKUP APARTMENTS</td>\n",
       "      <td>2B</td>\n",
       "      <td>402</td>\n",
       "      <td>21</td>\n",
       "      <td></td>\n",
       "      <td>C4</td>\n",
       "      <td>154 EAST 7TH STREET</td>\n",
       "      <td>...</td>\n",
       "      <td>10</td>\n",
       "      <td>0</td>\n",
       "      <td>10</td>\n",
       "      <td>2272</td>\n",
       "      <td>6794</td>\n",
       "      <td>1913</td>\n",
       "      <td>2</td>\n",
       "      <td>C4</td>\n",
       "      <td>3936272</td>\n",
       "      <td>2016-09-23 00:00:00</td>\n",
       "    </tr>\n",
       "    <tr>\n",
       "      <th>4</th>\n",
       "      <td>8</td>\n",
       "      <td>1</td>\n",
       "      <td>ALPHABET CITY</td>\n",
       "      <td>07 RENTALS - WALKUP APARTMENTS</td>\n",
       "      <td>2A</td>\n",
       "      <td>404</td>\n",
       "      <td>55</td>\n",
       "      <td></td>\n",
       "      <td>C2</td>\n",
       "      <td>301 EAST 10TH   STREET</td>\n",
       "      <td>...</td>\n",
       "      <td>6</td>\n",
       "      <td>0</td>\n",
       "      <td>6</td>\n",
       "      <td>2369</td>\n",
       "      <td>4615</td>\n",
       "      <td>1900</td>\n",
       "      <td>2</td>\n",
       "      <td>C2</td>\n",
       "      <td>8000000</td>\n",
       "      <td>2016-11-17 00:00:00</td>\n",
       "    </tr>\n",
       "  </tbody>\n",
       "</table>\n",
       "<p>5 rows × 22 columns</p>\n",
       "</div>"
      ],
      "text/plain": [
       "   Unnamed: 0  BOROUGH   NEIGHBORHOOD  \\\n",
       "0           4        1  ALPHABET CITY   \n",
       "1           5        1  ALPHABET CITY   \n",
       "2           6        1  ALPHABET CITY   \n",
       "3           7        1  ALPHABET CITY   \n",
       "4           8        1  ALPHABET CITY   \n",
       "\n",
       "                       BUILDING CLASS CATEGORY TAX CLASS AT PRESENT  BLOCK  \\\n",
       "0  07 RENTALS - WALKUP APARTMENTS                                2A    392   \n",
       "1  07 RENTALS - WALKUP APARTMENTS                                 2    399   \n",
       "2  07 RENTALS - WALKUP APARTMENTS                                 2    399   \n",
       "3  07 RENTALS - WALKUP APARTMENTS                                2B    402   \n",
       "4  07 RENTALS - WALKUP APARTMENTS                                2A    404   \n",
       "\n",
       "   LOT EASE-MENT BUILDING CLASS AT PRESENT                 ADDRESS  ...  \\\n",
       "0    6                                  C2            153 AVENUE B  ...   \n",
       "1   26                                  C7   234 EAST 4TH   STREET  ...   \n",
       "2   39                                  C7   197 EAST 3RD   STREET  ...   \n",
       "3   21                                  C4     154 EAST 7TH STREET  ...   \n",
       "4   55                                  C2  301 EAST 10TH   STREET  ...   \n",
       "\n",
       "  RESIDENTIAL UNITS  COMMERCIAL UNITS  TOTAL UNITS  LAND SQUARE FEET  \\\n",
       "0                 5                 0            5              1633   \n",
       "1                28                 3           31              4616   \n",
       "2                16                 1           17              2212   \n",
       "3                10                 0           10              2272   \n",
       "4                 6                 0            6              2369   \n",
       "\n",
       "   GROSS SQUARE FEET YEAR BUILT TAX CLASS AT TIME OF SALE  \\\n",
       "0               6440       1900                         2   \n",
       "1              18690       1900                         2   \n",
       "2               7803       1900                         2   \n",
       "3               6794       1913                         2   \n",
       "4               4615       1900                         2   \n",
       "\n",
       "   BUILDING CLASS AT TIME OF SALE  SALE PRICE            SALE DATE  \n",
       "0                              C2     6625000  2017-07-19 00:00:00  \n",
       "1                              C7         -    2016-12-14 00:00:00  \n",
       "2                              C7         -    2016-12-09 00:00:00  \n",
       "3                              C4     3936272  2016-09-23 00:00:00  \n",
       "4                              C2     8000000  2016-11-17 00:00:00  \n",
       "\n",
       "[5 rows x 22 columns]"
      ]
     },
     "execution_count": 7,
     "metadata": {},
     "output_type": "execute_result"
    }
   ],
   "source": [
    "df = pd.read_csv('nyc-rolling-sales.csv')\n",
    "df.head(5)"
   ]
  },
  {
   "cell_type": "markdown",
   "id": "fd66e856",
   "metadata": {},
   "source": [
    "# Menampilkan semua nama atribut yang ada "
   ]
  },
  {
   "cell_type": "code",
   "execution_count": 8,
   "id": "c0b47408",
   "metadata": {
    "ExecuteTime": {
     "end_time": "2023-10-08T13:44:33.098448Z",
     "start_time": "2023-10-08T13:44:33.089567Z"
    }
   },
   "outputs": [
    {
     "data": {
      "text/plain": [
       "array(['Unnamed: 0', 'BOROUGH', 'NEIGHBORHOOD', 'BUILDING CLASS CATEGORY',\n",
       "       'TAX CLASS AT PRESENT', 'BLOCK', 'LOT', 'EASE-MENT',\n",
       "       'BUILDING CLASS AT PRESENT', 'ADDRESS', 'APARTMENT NUMBER',\n",
       "       'ZIP CODE', 'RESIDENTIAL UNITS', 'COMMERCIAL UNITS', 'TOTAL UNITS',\n",
       "       'LAND SQUARE FEET', 'GROSS SQUARE FEET', 'YEAR BUILT',\n",
       "       'TAX CLASS AT TIME OF SALE', 'BUILDING CLASS AT TIME OF SALE',\n",
       "       'SALE PRICE', 'SALE DATE'], dtype=object)"
      ]
     },
     "execution_count": 8,
     "metadata": {},
     "output_type": "execute_result"
    }
   ],
   "source": [
    "df.columns.values"
   ]
  },
  {
   "cell_type": "markdown",
   "id": "4dbe89c4",
   "metadata": {},
   "source": [
    "# Menghapus kolom 'Unnamed: 0' "
   ]
  },
  {
   "cell_type": "code",
   "execution_count": 9,
   "id": "8e70d538",
   "metadata": {
    "ExecuteTime": {
     "end_time": "2023-10-08T13:44:33.934766Z",
     "start_time": "2023-10-08T13:44:33.900061Z"
    }
   },
   "outputs": [],
   "source": [
    "df = df.drop(columns=['Unnamed: 0'])"
   ]
  },
  {
   "cell_type": "markdown",
   "id": "557396e9",
   "metadata": {},
   "source": [
    "# Melihat info keseluruhan dari semua atribut yang ada"
   ]
  },
  {
   "cell_type": "code",
   "execution_count": 10,
   "id": "2a3ce98b",
   "metadata": {
    "ExecuteTime": {
     "end_time": "2023-10-08T13:44:35.568658Z",
     "start_time": "2023-10-08T13:44:35.339836Z"
    }
   },
   "outputs": [
    {
     "name": "stdout",
     "output_type": "stream",
     "text": [
      "<class 'pandas.core.frame.DataFrame'>\n",
      "RangeIndex: 84548 entries, 0 to 84547\n",
      "Data columns (total 21 columns):\n",
      " #   Column                          Non-Null Count  Dtype \n",
      "---  ------                          --------------  ----- \n",
      " 0   BOROUGH                         84548 non-null  int64 \n",
      " 1   NEIGHBORHOOD                    84548 non-null  object\n",
      " 2   BUILDING CLASS CATEGORY         84548 non-null  object\n",
      " 3   TAX CLASS AT PRESENT            84548 non-null  object\n",
      " 4   BLOCK                           84548 non-null  int64 \n",
      " 5   LOT                             84548 non-null  int64 \n",
      " 6   EASE-MENT                       84548 non-null  object\n",
      " 7   BUILDING CLASS AT PRESENT       84548 non-null  object\n",
      " 8   ADDRESS                         84548 non-null  object\n",
      " 9   APARTMENT NUMBER                84548 non-null  object\n",
      " 10  ZIP CODE                        84548 non-null  int64 \n",
      " 11  RESIDENTIAL UNITS               84548 non-null  int64 \n",
      " 12  COMMERCIAL UNITS                84548 non-null  int64 \n",
      " 13  TOTAL UNITS                     84548 non-null  int64 \n",
      " 14  LAND SQUARE FEET                84548 non-null  object\n",
      " 15  GROSS SQUARE FEET               84548 non-null  object\n",
      " 16  YEAR BUILT                      84548 non-null  int64 \n",
      " 17  TAX CLASS AT TIME OF SALE       84548 non-null  int64 \n",
      " 18  BUILDING CLASS AT TIME OF SALE  84548 non-null  object\n",
      " 19  SALE PRICE                      84548 non-null  object\n",
      " 20  SALE DATE                       84548 non-null  object\n",
      "dtypes: int64(9), object(12)\n",
      "memory usage: 13.5+ MB\n"
     ]
    }
   ],
   "source": [
    "df.info()"
   ]
  },
  {
   "cell_type": "markdown",
   "id": "7b710d41",
   "metadata": {},
   "source": [
    "# Menjumlahkan seluruh data yang kosong atau null"
   ]
  },
  {
   "cell_type": "code",
   "execution_count": 11,
   "id": "88d431a9",
   "metadata": {
    "ExecuteTime": {
     "end_time": "2023-10-08T13:44:37.086469Z",
     "start_time": "2023-10-08T13:44:36.880373Z"
    }
   },
   "outputs": [
    {
     "data": {
      "text/plain": [
       "BOROUGH                           0\n",
       "NEIGHBORHOOD                      0\n",
       "BUILDING CLASS CATEGORY           0\n",
       "TAX CLASS AT PRESENT              0\n",
       "BLOCK                             0\n",
       "LOT                               0\n",
       "EASE-MENT                         0\n",
       "BUILDING CLASS AT PRESENT         0\n",
       "ADDRESS                           0\n",
       "APARTMENT NUMBER                  0\n",
       "ZIP CODE                          0\n",
       "RESIDENTIAL UNITS                 0\n",
       "COMMERCIAL UNITS                  0\n",
       "TOTAL UNITS                       0\n",
       "LAND SQUARE FEET                  0\n",
       "GROSS SQUARE FEET                 0\n",
       "YEAR BUILT                        0\n",
       "TAX CLASS AT TIME OF SALE         0\n",
       "BUILDING CLASS AT TIME OF SALE    0\n",
       "SALE PRICE                        0\n",
       "SALE DATE                         0\n",
       "dtype: int64"
      ]
     },
     "execution_count": 11,
     "metadata": {},
     "output_type": "execute_result"
    }
   ],
   "source": [
    "df.isnull().sum()"
   ]
  },
  {
   "cell_type": "markdown",
   "id": "dccba0f9",
   "metadata": {},
   "source": [
    "# Mengambil data yang nilai 'Year Built' nya tidak sama dengan 0"
   ]
  },
  {
   "cell_type": "code",
   "execution_count": 12,
   "id": "9d4f8a6d",
   "metadata": {
    "ExecuteTime": {
     "end_time": "2023-10-08T13:44:39.100555Z",
     "start_time": "2023-10-08T13:44:39.046846Z"
    }
   },
   "outputs": [
    {
     "data": {
      "text/html": [
       "<div>\n",
       "<style scoped>\n",
       "    .dataframe tbody tr th:only-of-type {\n",
       "        vertical-align: middle;\n",
       "    }\n",
       "\n",
       "    .dataframe tbody tr th {\n",
       "        vertical-align: top;\n",
       "    }\n",
       "\n",
       "    .dataframe thead th {\n",
       "        text-align: right;\n",
       "    }\n",
       "</style>\n",
       "<table border=\"1\" class=\"dataframe\">\n",
       "  <thead>\n",
       "    <tr style=\"text-align: right;\">\n",
       "      <th></th>\n",
       "      <th>BOROUGH</th>\n",
       "      <th>NEIGHBORHOOD</th>\n",
       "      <th>BUILDING CLASS CATEGORY</th>\n",
       "      <th>TAX CLASS AT PRESENT</th>\n",
       "      <th>BLOCK</th>\n",
       "      <th>LOT</th>\n",
       "      <th>EASE-MENT</th>\n",
       "      <th>BUILDING CLASS AT PRESENT</th>\n",
       "      <th>ADDRESS</th>\n",
       "      <th>APARTMENT NUMBER</th>\n",
       "      <th>...</th>\n",
       "      <th>RESIDENTIAL UNITS</th>\n",
       "      <th>COMMERCIAL UNITS</th>\n",
       "      <th>TOTAL UNITS</th>\n",
       "      <th>LAND SQUARE FEET</th>\n",
       "      <th>GROSS SQUARE FEET</th>\n",
       "      <th>YEAR BUILT</th>\n",
       "      <th>TAX CLASS AT TIME OF SALE</th>\n",
       "      <th>BUILDING CLASS AT TIME OF SALE</th>\n",
       "      <th>SALE PRICE</th>\n",
       "      <th>SALE DATE</th>\n",
       "    </tr>\n",
       "  </thead>\n",
       "  <tbody>\n",
       "    <tr>\n",
       "      <th>0</th>\n",
       "      <td>1</td>\n",
       "      <td>ALPHABET CITY</td>\n",
       "      <td>07 RENTALS - WALKUP APARTMENTS</td>\n",
       "      <td>2A</td>\n",
       "      <td>392</td>\n",
       "      <td>6</td>\n",
       "      <td></td>\n",
       "      <td>C2</td>\n",
       "      <td>153 AVENUE B</td>\n",
       "      <td></td>\n",
       "      <td>...</td>\n",
       "      <td>5</td>\n",
       "      <td>0</td>\n",
       "      <td>5</td>\n",
       "      <td>1633</td>\n",
       "      <td>6440</td>\n",
       "      <td>1900</td>\n",
       "      <td>2</td>\n",
       "      <td>C2</td>\n",
       "      <td>6625000</td>\n",
       "      <td>2017-07-19 00:00:00</td>\n",
       "    </tr>\n",
       "    <tr>\n",
       "      <th>1</th>\n",
       "      <td>1</td>\n",
       "      <td>ALPHABET CITY</td>\n",
       "      <td>07 RENTALS - WALKUP APARTMENTS</td>\n",
       "      <td>2</td>\n",
       "      <td>399</td>\n",
       "      <td>26</td>\n",
       "      <td></td>\n",
       "      <td>C7</td>\n",
       "      <td>234 EAST 4TH   STREET</td>\n",
       "      <td></td>\n",
       "      <td>...</td>\n",
       "      <td>28</td>\n",
       "      <td>3</td>\n",
       "      <td>31</td>\n",
       "      <td>4616</td>\n",
       "      <td>18690</td>\n",
       "      <td>1900</td>\n",
       "      <td>2</td>\n",
       "      <td>C7</td>\n",
       "      <td>-</td>\n",
       "      <td>2016-12-14 00:00:00</td>\n",
       "    </tr>\n",
       "    <tr>\n",
       "      <th>2</th>\n",
       "      <td>1</td>\n",
       "      <td>ALPHABET CITY</td>\n",
       "      <td>07 RENTALS - WALKUP APARTMENTS</td>\n",
       "      <td>2</td>\n",
       "      <td>399</td>\n",
       "      <td>39</td>\n",
       "      <td></td>\n",
       "      <td>C7</td>\n",
       "      <td>197 EAST 3RD   STREET</td>\n",
       "      <td></td>\n",
       "      <td>...</td>\n",
       "      <td>16</td>\n",
       "      <td>1</td>\n",
       "      <td>17</td>\n",
       "      <td>2212</td>\n",
       "      <td>7803</td>\n",
       "      <td>1900</td>\n",
       "      <td>2</td>\n",
       "      <td>C7</td>\n",
       "      <td>-</td>\n",
       "      <td>2016-12-09 00:00:00</td>\n",
       "    </tr>\n",
       "    <tr>\n",
       "      <th>3</th>\n",
       "      <td>1</td>\n",
       "      <td>ALPHABET CITY</td>\n",
       "      <td>07 RENTALS - WALKUP APARTMENTS</td>\n",
       "      <td>2B</td>\n",
       "      <td>402</td>\n",
       "      <td>21</td>\n",
       "      <td></td>\n",
       "      <td>C4</td>\n",
       "      <td>154 EAST 7TH STREET</td>\n",
       "      <td></td>\n",
       "      <td>...</td>\n",
       "      <td>10</td>\n",
       "      <td>0</td>\n",
       "      <td>10</td>\n",
       "      <td>2272</td>\n",
       "      <td>6794</td>\n",
       "      <td>1913</td>\n",
       "      <td>2</td>\n",
       "      <td>C4</td>\n",
       "      <td>3936272</td>\n",
       "      <td>2016-09-23 00:00:00</td>\n",
       "    </tr>\n",
       "    <tr>\n",
       "      <th>4</th>\n",
       "      <td>1</td>\n",
       "      <td>ALPHABET CITY</td>\n",
       "      <td>07 RENTALS - WALKUP APARTMENTS</td>\n",
       "      <td>2A</td>\n",
       "      <td>404</td>\n",
       "      <td>55</td>\n",
       "      <td></td>\n",
       "      <td>C2</td>\n",
       "      <td>301 EAST 10TH   STREET</td>\n",
       "      <td></td>\n",
       "      <td>...</td>\n",
       "      <td>6</td>\n",
       "      <td>0</td>\n",
       "      <td>6</td>\n",
       "      <td>2369</td>\n",
       "      <td>4615</td>\n",
       "      <td>1900</td>\n",
       "      <td>2</td>\n",
       "      <td>C2</td>\n",
       "      <td>8000000</td>\n",
       "      <td>2016-11-17 00:00:00</td>\n",
       "    </tr>\n",
       "  </tbody>\n",
       "</table>\n",
       "<p>5 rows × 21 columns</p>\n",
       "</div>"
      ],
      "text/plain": [
       "   BOROUGH   NEIGHBORHOOD                      BUILDING CLASS CATEGORY  \\\n",
       "0        1  ALPHABET CITY  07 RENTALS - WALKUP APARTMENTS                \n",
       "1        1  ALPHABET CITY  07 RENTALS - WALKUP APARTMENTS                \n",
       "2        1  ALPHABET CITY  07 RENTALS - WALKUP APARTMENTS                \n",
       "3        1  ALPHABET CITY  07 RENTALS - WALKUP APARTMENTS                \n",
       "4        1  ALPHABET CITY  07 RENTALS - WALKUP APARTMENTS                \n",
       "\n",
       "  TAX CLASS AT PRESENT  BLOCK  LOT EASE-MENT BUILDING CLASS AT PRESENT  \\\n",
       "0                   2A    392    6                                  C2   \n",
       "1                    2    399   26                                  C7   \n",
       "2                    2    399   39                                  C7   \n",
       "3                   2B    402   21                                  C4   \n",
       "4                   2A    404   55                                  C2   \n",
       "\n",
       "                  ADDRESS APARTMENT NUMBER  ...  RESIDENTIAL UNITS  \\\n",
       "0            153 AVENUE B                   ...                  5   \n",
       "1   234 EAST 4TH   STREET                   ...                 28   \n",
       "2   197 EAST 3RD   STREET                   ...                 16   \n",
       "3     154 EAST 7TH STREET                   ...                 10   \n",
       "4  301 EAST 10TH   STREET                   ...                  6   \n",
       "\n",
       "   COMMERCIAL UNITS  TOTAL UNITS  LAND SQUARE FEET GROSS SQUARE FEET  \\\n",
       "0                 0            5              1633              6440   \n",
       "1                 3           31              4616             18690   \n",
       "2                 1           17              2212              7803   \n",
       "3                 0           10              2272              6794   \n",
       "4                 0            6              2369              4615   \n",
       "\n",
       "  YEAR BUILT  TAX CLASS AT TIME OF SALE  BUILDING CLASS AT TIME OF SALE  \\\n",
       "0       1900                          2                              C2   \n",
       "1       1900                          2                              C7   \n",
       "2       1900                          2                              C7   \n",
       "3       1913                          2                              C4   \n",
       "4       1900                          2                              C2   \n",
       "\n",
       "  SALE PRICE            SALE DATE  \n",
       "0    6625000  2017-07-19 00:00:00  \n",
       "1        -    2016-12-14 00:00:00  \n",
       "2        -    2016-12-09 00:00:00  \n",
       "3    3936272  2016-09-23 00:00:00  \n",
       "4    8000000  2016-11-17 00:00:00  \n",
       "\n",
       "[5 rows x 21 columns]"
      ]
     },
     "execution_count": 12,
     "metadata": {},
     "output_type": "execute_result"
    }
   ],
   "source": [
    "df = df[df['YEAR BUILT'] != 0]\n",
    "df.head(5)"
   ]
  },
  {
   "cell_type": "markdown",
   "id": "25f72be8",
   "metadata": {},
   "source": [
    "# Mengganti nilai ' -  ' dengan nilai nan dan mengubah 'sale price' menjadi numeric"
   ]
  },
  {
   "cell_type": "code",
   "execution_count": 13,
   "id": "1fa3c1e6",
   "metadata": {
    "ExecuteTime": {
     "end_time": "2023-10-08T13:44:42.110572Z",
     "start_time": "2023-10-08T13:44:42.020004Z"
    }
   },
   "outputs": [],
   "source": [
    "df['SALE PRICE'] = df['SALE PRICE'].replace(' -  ', np.nan)\n",
    "df['SALE PRICE'] = pd.to_numeric(df['SALE PRICE'], errors='coerce')"
   ]
  },
  {
   "cell_type": "markdown",
   "id": "c2fb748e",
   "metadata": {},
   "source": [
    "# Mengubah tipe data 'sale price' menjadi float"
   ]
  },
  {
   "cell_type": "code",
   "execution_count": 14,
   "id": "9b173120",
   "metadata": {
    "ExecuteTime": {
     "end_time": "2023-10-08T13:44:43.606126Z",
     "start_time": "2023-10-08T13:44:43.599769Z"
    }
   },
   "outputs": [],
   "source": [
    "df['SALE PRICE'] = df['SALE PRICE'].astype(float)"
   ]
  },
  {
   "cell_type": "markdown",
   "id": "6f4ccc17",
   "metadata": {},
   "source": [
    "# Mengubah tipe data 'sale date' menjadi datetime dengan format yyy-mm-dd"
   ]
  },
  {
   "cell_type": "code",
   "execution_count": 15,
   "id": "e3b62408",
   "metadata": {
    "ExecuteTime": {
     "end_time": "2023-10-08T13:44:45.338940Z",
     "start_time": "2023-10-08T13:44:45.296585Z"
    }
   },
   "outputs": [],
   "source": [
    "df['SALE DATE'] = pd.to_datetime(df['SALE DATE'], format='%Y-%m-%d')"
   ]
  },
  {
   "cell_type": "markdown",
   "id": "185768a8",
   "metadata": {},
   "source": [
    "# Mengubah nilai atribut 'land square feet' menjadi numeric"
   ]
  },
  {
   "cell_type": "code",
   "execution_count": 16,
   "id": "13a515d8",
   "metadata": {
    "ExecuteTime": {
     "end_time": "2023-10-08T13:44:46.860308Z",
     "start_time": "2023-10-08T13:44:46.755571Z"
    }
   },
   "outputs": [],
   "source": [
    "df['LAND SQUARE FEET'] = pd.to_numeric(df['LAND SQUARE FEET'], errors='coerce')"
   ]
  },
  {
   "cell_type": "markdown",
   "id": "3fe4dd2b",
   "metadata": {},
   "source": [
    "# Mengubah nilai atribut 'gross square feet' menjadi numeric"
   ]
  },
  {
   "cell_type": "code",
   "execution_count": 17,
   "id": "72cb715e",
   "metadata": {
    "ExecuteTime": {
     "end_time": "2023-10-08T13:44:48.121815Z",
     "start_time": "2023-10-08T13:44:48.016208Z"
    }
   },
   "outputs": [],
   "source": [
    "df['GROSS SQUARE FEET'] = pd.to_numeric(df['GROSS SQUARE FEET'], errors='coerce')"
   ]
  },
  {
   "cell_type": "markdown",
   "id": "82da7813",
   "metadata": {},
   "source": [
    "# Menampilkan kembali info tipe datanya, terlihat bahwa yang seharusnya bertipe angka sudah diubah menjadi float agar dapat dilakukan operasi"
   ]
  },
  {
   "cell_type": "code",
   "execution_count": 18,
   "id": "da547bc3",
   "metadata": {
    "ExecuteTime": {
     "end_time": "2023-10-08T13:44:49.905632Z",
     "start_time": "2023-10-08T13:44:49.769965Z"
    }
   },
   "outputs": [
    {
     "name": "stdout",
     "output_type": "stream",
     "text": [
      "<class 'pandas.core.frame.DataFrame'>\n",
      "Int64Index: 77578 entries, 0 to 84547\n",
      "Data columns (total 21 columns):\n",
      " #   Column                          Non-Null Count  Dtype         \n",
      "---  ------                          --------------  -----         \n",
      " 0   BOROUGH                         77578 non-null  int64         \n",
      " 1   NEIGHBORHOOD                    77578 non-null  object        \n",
      " 2   BUILDING CLASS CATEGORY         77578 non-null  object        \n",
      " 3   TAX CLASS AT PRESENT            77578 non-null  object        \n",
      " 4   BLOCK                           77578 non-null  int64         \n",
      " 5   LOT                             77578 non-null  int64         \n",
      " 6   EASE-MENT                       77578 non-null  object        \n",
      " 7   BUILDING CLASS AT PRESENT       77578 non-null  object        \n",
      " 8   ADDRESS                         77578 non-null  object        \n",
      " 9   APARTMENT NUMBER                77578 non-null  object        \n",
      " 10  ZIP CODE                        77578 non-null  int64         \n",
      " 11  RESIDENTIAL UNITS               77578 non-null  int64         \n",
      " 12  COMMERCIAL UNITS                77578 non-null  int64         \n",
      " 13  TOTAL UNITS                     77578 non-null  int64         \n",
      " 14  LAND SQUARE FEET                54329 non-null  float64       \n",
      " 15  GROSS SQUARE FEET               54020 non-null  float64       \n",
      " 16  YEAR BUILT                      77578 non-null  int64         \n",
      " 17  TAX CLASS AT TIME OF SALE       77578 non-null  int64         \n",
      " 18  BUILDING CLASS AT TIME OF SALE  77578 non-null  object        \n",
      " 19  SALE PRICE                      64596 non-null  float64       \n",
      " 20  SALE DATE                       77578 non-null  datetime64[ns]\n",
      "dtypes: datetime64[ns](1), float64(3), int64(9), object(8)\n",
      "memory usage: 13.0+ MB\n"
     ]
    }
   ],
   "source": [
    "df.info()"
   ]
  },
  {
   "cell_type": "markdown",
   "id": "c5290291",
   "metadata": {},
   "source": [
    "# Menentukan nilai mean berdasarkan 'sale price'"
   ]
  },
  {
   "cell_type": "code",
   "execution_count": 19,
   "id": "cfaa7775",
   "metadata": {
    "ExecuteTime": {
     "end_time": "2023-10-08T13:44:52.129744Z",
     "start_time": "2023-10-08T13:44:52.115127Z"
    }
   },
   "outputs": [
    {
     "name": "stdout",
     "output_type": "stream",
     "text": [
      "Mean :  1263461.9564059693\n"
     ]
    }
   ],
   "source": [
    "mean_value = df['SALE PRICE'].mean()\n",
    "print('Mean : ', mean_value)"
   ]
  },
  {
   "cell_type": "markdown",
   "id": "6ae7cb36",
   "metadata": {},
   "source": [
    "# Menentukan median berdasarkan 'year built'"
   ]
  },
  {
   "cell_type": "code",
   "execution_count": 20,
   "id": "2ffc10ca",
   "metadata": {
    "ExecuteTime": {
     "end_time": "2023-10-08T13:44:57.758287Z",
     "start_time": "2023-10-08T13:44:57.749985Z"
    },
    "scrolled": true
   },
   "outputs": [
    {
     "name": "stdout",
     "output_type": "stream",
     "text": [
      "Median:  1945.0\n"
     ]
    }
   ],
   "source": [
    "median_value = df['YEAR BUILT'].median()\n",
    "print(\"Median: \", median_value)"
   ]
  },
  {
   "cell_type": "markdown",
   "id": "584d858e",
   "metadata": {},
   "source": [
    "# Menentukan nilai mean berdasarkan 'year built'"
   ]
  },
  {
   "cell_type": "code",
   "execution_count": 21,
   "id": "c8bcabdb",
   "metadata": {
    "ExecuteTime": {
     "end_time": "2023-10-08T13:45:00.583175Z",
     "start_time": "2023-10-08T13:45:00.577154Z"
    }
   },
   "outputs": [
    {
     "name": "stdout",
     "output_type": "stream",
     "text": [
      "Mean Year Built:  1950.0848049704814\n"
     ]
    }
   ],
   "source": [
    "year_mean = df['YEAR BUILT'].mean()\n",
    "print(\"Mean Year Built: \", year_mean)"
   ]
  },
  {
   "cell_type": "markdown",
   "id": "872cd08e",
   "metadata": {},
   "source": [
    "# Menentukan nilai modus berdasarkan 'neighborhood'"
   ]
  },
  {
   "cell_type": "code",
   "execution_count": 48,
   "id": "16e92cf5",
   "metadata": {
    "ExecuteTime": {
     "end_time": "2023-10-05T15:32:33.562885Z",
     "start_time": "2023-10-05T15:32:33.548241Z"
    }
   },
   "outputs": [
    {
     "name": "stdout",
     "output_type": "stream",
     "text": [
      "Modus :  0    FLUSHING-NORTH\n",
      "Name: NEIGHBORHOOD, dtype: object\n"
     ]
    }
   ],
   "source": [
    "mode_value = df['NEIGHBORHOOD'].mode()\n",
    "print('Modus : ', mode_value)"
   ]
  },
  {
   "cell_type": "markdown",
   "id": "1bc749fc",
   "metadata": {},
   "source": [
    "# Menentukan nilai rentang berdasarkan 'sale price'"
   ]
  },
  {
   "cell_type": "code",
   "execution_count": 49,
   "id": "d6ea584c",
   "metadata": {
    "ExecuteTime": {
     "end_time": "2023-10-05T15:32:35.757849Z",
     "start_time": "2023-10-05T15:32:35.748264Z"
    }
   },
   "outputs": [
    {
     "name": "stdout",
     "output_type": "stream",
     "text": [
      "Rentang data harga jual :  2210000000.0\n"
     ]
    }
   ],
   "source": [
    "rentang = df['SALE PRICE'].max() - df['SALE PRICE'].min()\n",
    "print('Rentang data harga jual : ', rentang)"
   ]
  },
  {
   "cell_type": "markdown",
   "id": "22868044",
   "metadata": {},
   "source": [
    "# Menentukan nilai variasi berdasarkan 'sale price'"
   ]
  },
  {
   "cell_type": "code",
   "execution_count": 50,
   "id": "09e512f4",
   "metadata": {
    "ExecuteTime": {
     "end_time": "2023-10-05T15:32:38.063754Z",
     "start_time": "2023-10-05T15:32:38.050748Z"
    }
   },
   "outputs": [
    {
     "name": "stdout",
     "output_type": "stream",
     "text": [
      "Variasi data harga jual :  135966849605706.44\n"
     ]
    }
   ],
   "source": [
    "variasi = df['SALE PRICE'].var()\n",
    "print('Variasi data harga jual : ', variasi)"
   ]
  },
  {
   "cell_type": "markdown",
   "id": "fc560414",
   "metadata": {},
   "source": [
    "# Menentukan nilai standard deviasi berdasarkan 'sale price'"
   ]
  },
  {
   "cell_type": "code",
   "execution_count": 51,
   "id": "edcb5255",
   "metadata": {
    "ExecuteTime": {
     "end_time": "2023-10-05T15:32:39.468703Z",
     "start_time": "2023-10-05T15:32:39.458150Z"
    }
   },
   "outputs": [
    {
     "name": "stdout",
     "output_type": "stream",
     "text": [
      "Standard deviasi harga jual :  11660482.391638283\n"
     ]
    }
   ],
   "source": [
    "std_dev = df['SALE PRICE'].std()\n",
    "print('Standard deviasi harga jual : ', std_dev)"
   ]
  },
  {
   "cell_type": "markdown",
   "id": "355d5efd",
   "metadata": {},
   "source": [
    "# Menentukan nilai distribusi probabilitas berdasarkan 'sale price'"
   ]
  },
  {
   "cell_type": "code",
   "execution_count": 52,
   "id": "4ad4589e",
   "metadata": {
    "ExecuteTime": {
     "end_time": "2023-10-05T15:32:41.313517Z",
     "start_time": "2023-10-05T15:32:41.297101Z"
    }
   },
   "outputs": [
    {
     "name": "stdout",
     "output_type": "stream",
     "text": [
      "Distribusi Probabilitas:\n",
      "0.0          0.141603\n",
      "10.0         0.010806\n",
      "450000.0     0.006301\n",
      "600000.0     0.006084\n",
      "650000.0     0.006068\n",
      "               ...   \n",
      "3253308.0    0.000015\n",
      "2202500.0    0.000015\n",
      "2565000.0    0.000015\n",
      "1562500.0    0.000015\n",
      "69300.0      0.000015\n",
      "Name: SALE PRICE, Length: 9377, dtype: float64\n"
     ]
    }
   ],
   "source": [
    "distribusi_probabilitas = df['SALE PRICE'].value_counts(normalize=True)\n",
    "print(\"Distribusi Probabilitas:\")\n",
    "print(distribusi_probabilitas)"
   ]
  },
  {
   "cell_type": "markdown",
   "id": "44a1caca",
   "metadata": {},
   "source": [
    "# Menentukan nilai confidence intervals berdasarkan 'sale price'"
   ]
  },
  {
   "cell_type": "code",
   "execution_count": 53,
   "id": "329923e1",
   "metadata": {
    "ExecuteTime": {
     "end_time": "2023-10-05T15:32:44.149172Z",
     "start_time": "2023-10-05T15:32:44.138548Z"
    }
   },
   "outputs": [
    {
     "name": "stdout",
     "output_type": "stream",
     "text": [
      "Confidence Interval: (1181407.5147008668, 1345516.398111072)\n"
     ]
    }
   ],
   "source": [
    "sample_size = len(df['SALE PRICE'])\n",
    "confidence_level = 0.95\n",
    "confidence_interval = stats.t.interval(confidence_level, df=sample_size - 1, loc=mean_value, scale=std_dev / (sample_size ** 0.5))\n",
    "\n",
    "# Menampilkan confidence interval\n",
    "print(\"Confidence Interval:\", confidence_interval)"
   ]
  },
  {
   "cell_type": "markdown",
   "id": "31b1da22",
   "metadata": {},
   "source": [
    "# Berdasarkan hasil perhitungan di atas dapat dilihat bahwa harga rerata properti itu sebesar 1.263.461 pounds. nilai tengah tahun pembuatan properti adalah pada tahun 1945 dan secara keseluruhan rata rata properti banyak dibangun pada tahun 1950. Properti yang ada juga dijual dengan harga yang sangat beragam bahkan jarak antara harga termahal dengan termurah itu sebesar 2.210.000.000. "
   ]
  },
  {
   "cell_type": "code",
   "execution_count": null,
   "id": "47e75a06",
   "metadata": {},
   "outputs": [],
   "source": []
  }
 ],
 "metadata": {
  "kernelspec": {
   "display_name": "Python 3 (ipykernel)",
   "language": "python",
   "name": "python3"
  },
  "language_info": {
   "codemirror_mode": {
    "name": "ipython",
    "version": 3
   },
   "file_extension": ".py",
   "mimetype": "text/x-python",
   "name": "python",
   "nbconvert_exporter": "python",
   "pygments_lexer": "ipython3",
   "version": "3.11.4"
  },
  "toc": {
   "base_numbering": 1,
   "nav_menu": {},
   "number_sections": true,
   "sideBar": true,
   "skip_h1_title": false,
   "title_cell": "Table of Contents",
   "title_sidebar": "Contents",
   "toc_cell": false,
   "toc_position": {},
   "toc_section_display": true,
   "toc_window_display": false
  }
 },
 "nbformat": 4,
 "nbformat_minor": 5
}
